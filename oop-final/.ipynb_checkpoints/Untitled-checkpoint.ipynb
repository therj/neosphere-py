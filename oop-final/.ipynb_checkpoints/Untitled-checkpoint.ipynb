{
 "cells": [
  {
   "cell_type": "code",
   "execution_count": 8,
   "metadata": {},
   "outputs": [],
   "source": [
    "l1 = [1,2]\n",
    "\n",
    "l2 = ['a','b','c','d','e']\n",
    "l3 = [101, 102, 103, 104, 105]"
   ]
  },
  {
   "cell_type": "markdown",
   "metadata": {},
   "source": [
    "1\n",
    "a\n",
    "2\n",
    "b\n",
    "3\n",
    "c\n",
    "4\n",
    "d\n",
    "5\n",
    "e\n"
   ]
  },
  {
   "cell_type": "code",
   "execution_count": 11,
   "metadata": {},
   "outputs": [
    {
     "name": "stdout",
     "output_type": "stream",
     "text": [
      "1\n",
      "a\n",
      "101\n",
      "2\n",
      "b\n",
      "102\n",
      "3\n",
      "c\n",
      "103\n",
      "4\n",
      "d\n",
      "104\n",
      "5\n",
      "e\n",
      "105\n"
     ]
    }
   ],
   "source": [
    "for i, j, k in zip(l1, l2, l3):\n",
    "    print(i)\n",
    "    print(j)\n",
    "    print(k)"
   ]
  }
 ],
 "metadata": {
  "kernelspec": {
   "display_name": "Python 3",
   "language": "python",
   "name": "python3"
  },
  "language_info": {
   "codemirror_mode": {
    "name": "ipython",
    "version": 3
   },
   "file_extension": ".py",
   "mimetype": "text/x-python",
   "name": "python",
   "nbconvert_exporter": "python",
   "pygments_lexer": "ipython3",
   "version": "3.7.3"
  }
 },
 "nbformat": 4,
 "nbformat_minor": 4
}
